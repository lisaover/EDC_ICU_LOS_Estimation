{
 "cells": [
  {
   "cell_type": "markdown",
   "metadata": {},
   "source": [
    "## Functions for TO1 data processing"
   ]
  },
  {
   "cell_type": "code",
   "execution_count": 1,
   "metadata": {},
   "outputs": [],
   "source": [
    "import pandas as pd\n",
    "import numpy as np"
   ]
  },
  {
   "cell_type": "code",
   "execution_count": 2,
   "metadata": {},
   "outputs": [],
   "source": [
    "def try_parse_dt(x):\n",
    "    try:\n",
    "        return np.datetime64(x)\n",
    "    except:\n",
    "        return None"
   ]
  },
  {
   "cell_type": "code",
   "execution_count": 3,
   "metadata": {},
   "outputs": [],
   "source": [
    "def get_calendar_days(lid, beg, end):\n",
    "    global prev_lites_id\n",
    "    global last_counted_date\n",
    "    \n",
    "    # Check that beg and end dates are valid dates\n",
    "    if (try_parse_dt(beg) != None) & (try_parse_dt(end) != None):\n",
    "        valid_date_pair = True\n",
    "    else:\n",
    "        valid_date_pair = False\n",
    "    \n",
    "    # If there is overlap in the dates between two records, change the begin date to be the last_counted_date\n",
    "    if valid_date_pair & (try_parse_dt(last_counted_date) != None) & (lid == prev_lites_id):\n",
    "        if (last_counted_date > beg):\n",
    "            beg = last_counted_date\n",
    "    \n",
    "    # If the beg and end dates are valid and the lites_id equals the previous lites_id, subtract the dates and\n",
    "    # add one if the beg date does not equal the last_counted_date because subtraction does not count the subtracted date\n",
    "    if valid_date_pair:\n",
    "        if (lid == prev_lites_id):\n",
    "            if (beg == last_counted_date):\n",
    "                num_days = (end - beg).days\n",
    "            else:\n",
    "                num_days = (end - beg).days + 1\n",
    "        else:\n",
    "            num_days = (end - beg).days + 1\n",
    "            \n",
    "        prev_lites_id = lid\n",
    "        last_counted_date = end\n",
    "    else:\n",
    "        num_days = np.nan\n",
    "    \n",
    "    return num_days"
   ]
  },
  {
   "cell_type": "code",
   "execution_count": null,
   "metadata": {},
   "outputs": [],
   "source": [
    "ih_sorted['hosp_los_init'] = [get_calendar_days(i, j, k) for (i, j, k) in zip(ih_sorted['id'], ih_sorted['beg_date'], ih_sorted['end_date'])]"
   ]
  }
 ],
 "metadata": {
  "kernelspec": {
   "display_name": "Python 3 (ipykernel)",
   "language": "python",
   "name": "python3"
  },
  "language_info": {
   "codemirror_mode": {
    "name": "ipython",
    "version": 3
   },
   "file_extension": ".py",
   "mimetype": "text/x-python",
   "name": "python",
   "nbconvert_exporter": "python",
   "pygments_lexer": "ipython3",
   "version": "3.10.11"
  }
 },
 "nbformat": 4,
 "nbformat_minor": 2
}
